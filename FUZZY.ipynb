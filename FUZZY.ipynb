{
 "cells": [
  {
   "cell_type": "markdown",
   "id": "1f8c5900-c341-40c9-a10f-9aa5942f6a53",
   "metadata": {},
   "source": [
    "import numpy as np\n",
    "import pandas as pd\n",
    "from scipy import stats\n"
   ]
  },
  {
   "cell_type": "code",
   "execution_count": 1,
   "id": "eac5e385-7b2d-4221-9d7d-2725ca80ecd0",
   "metadata": {},
   "outputs": [],
   "source": [
    "import pandas as pd"
   ]
  },
  {
   "cell_type": "code",
   "execution_count": 1,
   "id": "19e3bfaf-df16-455b-88df-94771e164795",
   "metadata": {},
   "outputs": [
    {
     "ename": "NameError",
     "evalue": "name 'pd' is not defined",
     "output_type": "error",
     "traceback": [
      "\u001b[1;31m---------------------------------------------------------------------------\u001b[0m",
      "\u001b[1;31mNameError\u001b[0m                                 Traceback (most recent call last)",
      "Cell \u001b[1;32mIn[1], line 1\u001b[0m\n\u001b[1;32m----> 1\u001b[0m df\u001b[38;5;241m=\u001b[39mpd\u001b[38;5;241m.\u001b[39mread_csv(\u001b[38;5;124m\"\u001b[39m\u001b[38;5;124mC:\u001b[39m\u001b[38;5;130;01m\\\\\u001b[39;00m\u001b[38;5;124mUsers\u001b[39m\u001b[38;5;130;01m\\\\\u001b[39;00m\u001b[38;5;124mAkshata Pandit\u001b[39m\u001b[38;5;130;01m\\\\\u001b[39;00m\u001b[38;5;124mOneDrive\u001b[39m\u001b[38;5;130;01m\\\\\u001b[39;00m\u001b[38;5;124mvscode1\u001b[39m\u001b[38;5;130;01m\\\\\u001b[39;00m\u001b[38;5;124mfuzzy projects\u001b[39m\u001b[38;5;130;01m\\\\\u001b[39;00m\u001b[38;5;124malzheimer.csv\u001b[39m\u001b[38;5;124m\"\u001b[39m)\n",
      "\u001b[1;31mNameError\u001b[0m: name 'pd' is not defined"
     ]
    }
   ],
   "source": [
    "df=pd.read_csv(\"C:\\\\Users\\\\Akshata Pandit\\\\OneDrive\\\\vscode1\\\\fuzzy projects\\\\alzheimer.csv\")"
   ]
  },
  {
   "cell_type": "code",
   "execution_count": null,
   "id": "cc40b40a-7b8f-4e52-9b99-74d0fc2b4489",
   "metadata": {},
   "outputs": [],
   "source": [
    "df\n"
   ]
  },
  {
   "cell_type": "code",
   "execution_count": null,
   "id": "1353fc6f-d48f-4d8e-9f73-f83d079ef3b9",
   "metadata": {},
   "outputs": [],
   "source": [
    "df.describe()"
   ]
  },
  {
   "cell_type": "code",
   "execution_count": null,
   "id": "112e26ad-9234-4eab-bf62-14796f22e8d5",
   "metadata": {},
   "outputs": [],
   "source": [
    "\n",
    "\n",
    "df.shape"
   ]
  },
  {
   "cell_type": "code",
   "execution_count": null,
   "id": "7a053b9b-203c-408f-aa03-e6d1e8e6438e",
   "metadata": {},
   "outputs": [],
   "source": [
    "df.info"
   ]
  },
  {
   "cell_type": "code",
   "execution_count": null,
   "id": "f134fcd9-5f2b-4faa-b44a-898d94062025",
   "metadata": {},
   "outputs": [],
   "source": [
    "df.head(10)"
   ]
  },
  {
   "cell_type": "markdown",
   "id": "8ec9f270-42aa-4b25-a4e4-e5ce4f1f1554",
   "metadata": {},
   "source": [
    "# Attributes explaination\n",
    "\n",
    "Group --> Class\n",
    "<br>\n",
    "Age --> Age\n",
    "<br>\n",
    "EDUC --> Years of Education\n",
    "<br>\n",
    "SES --> Socioeconomic Status / 1-5\n",
    "<br>\n",
    "MMSE --> Mini Mental State Examination\n",
    "<br>\n",
    "CDR --> Clinical Dementia Rating\n",
    "<br>\n",
    "eTIV --> Estimated total intracranial volume\n",
    "<br>\n",
    "nWBV --> Normalize Whole Brain Volume\n",
    "<br>\n",
    "ASF --> Atlas Scaling Factor"
   ]
  },
  {
   "cell_type": "markdown",
   "id": "cdbe2577-cf13-4170-9589-a8a7c23dd85b",
   "metadata": {},
   "source": [
    "CDR: This is the target variable, not a feature for prediction.\n",
    "MMSE: Directly measures cognitive function, crucial for Alzheimer's diagnosis.\n",
    "eTIV, nWBV, ASF: Brain structural measures, highly relevant to Alzheimer's disease.\n",
    "Age: A strong risk factor for Alzheimer's.\n",
    "EDUC: Potentially correlated with cognitive function and disease progression.\n",
    "SES: Might have some influence, but likely less direct than other features.\n",
    "Group: While potentially informative, it might be dependent on other factors and could introduce bias."
   ]
  },
  {
   "cell_type": "code",
   "execution_count": null,
   "id": "29377ef9-d89e-41a6-980c-d15bd9dcb98e",
   "metadata": {},
   "outputs": [],
   "source": [
    "df.isnull().sum()"
   ]
  },
  {
   "cell_type": "code",
   "execution_count": null,
   "id": "14f29eef-dfdb-42e8-a24d-36be84949821",
   "metadata": {},
   "outputs": [],
   "source": [
    "df['SES']=df['SES'].ffill()"
   ]
  },
  {
   "cell_type": "code",
   "execution_count": null,
   "id": "649aa434-27b8-430a-a217-0b81f66b40de",
   "metadata": {},
   "outputs": [],
   "source": [
    "df['MMSE']=df['MMSE'].ffill()"
   ]
  },
  {
   "cell_type": "code",
   "execution_count": null,
   "id": "3778730d-11d0-4419-9e09-1900dd218fe5",
   "metadata": {},
   "outputs": [],
   "source": [
    "df.isnull().sum()"
   ]
  },
  {
   "cell_type": "code",
   "execution_count": null,
   "id": "abbd673c-514b-44df-92c6-40010f9a7aee",
   "metadata": {},
   "outputs": [],
   "source": [
    "df.head(30)"
   ]
  },
  {
   "cell_type": "markdown",
   "id": "a8a68697-32d5-4cb7-bfe2-24f039b6d691",
   "metadata": {},
   "source": [
    "# zscore "
   ]
  },
  {
   "cell_type": "code",
   "execution_count": null,
   "id": "b130dacd-b4cd-48f7-bea7-9dae3e8d5f50",
   "metadata": {},
   "outputs": [],
   "source": [
    "stats.zscore(df['MMSE'])"
   ]
  },
  {
   "cell_type": "code",
   "execution_count": null,
   "id": "340f71fa-b089-43b7-a638-1d66ad89f9b3",
   "metadata": {
    "scrolled": true
   },
   "outputs": [],
   "source": [
    "stats.zscore(df['CDR'])"
   ]
  },
  {
   "cell_type": "code",
   "execution_count": null,
   "id": "d62d8f29-6508-4d79-8005-83e2e88ef8ae",
   "metadata": {},
   "outputs": [],
   "source": [
    "stats.zscore(df['CDR'])"
   ]
  },
  {
   "cell_type": "code",
   "execution_count": null,
   "id": "791bde2c-0ab5-4f2a-9730-f06966677453",
   "metadata": {},
   "outputs": [],
   "source": [
    "stats.zscore(df['eTIV'])"
   ]
  },
  {
   "cell_type": "code",
   "execution_count": null,
   "id": "9cb81f4d-eae2-457b-b691-f550bdbe242c",
   "metadata": {},
   "outputs": [],
   "source": [
    "stats.zscore(df['nWBV'])"
   ]
  },
  {
   "cell_type": "code",
   "execution_count": null,
   "id": "42eabf72-5188-44db-b7f8-e4d1da1785df",
   "metadata": {},
   "outputs": [],
   "source": [
    "stats.zscore(df['ASF'])"
   ]
  },
  {
   "cell_type": "markdown",
   "id": "6de458a2-665b-4365-8096-7722327e1d74",
   "metadata": {},
   "source": [
    "# dropping the unwanted attribute\n",
    "\n",
    "<b>Feature group</b> i.e class is essential for the classification.It's  helps to classify the patient into demented or non demented.BUT this feature does not help us to predict the disease. So we can drop the feature Group.\n",
    "<br>\n",
    "<b>Feature SES</b> i.e Socioeconomic status.This amy help to categorise the target on availability of the quality treatement.It might have an indirect effect on the target,but not so important in predicting the disease."
   ]
  },
  {
   "cell_type": "code",
   "execution_count": null,
   "id": "8af68a3f-a2ed-47fa-bcc7-b86eea1481a6",
   "metadata": {},
   "outputs": [],
   "source": [
    "df=df.drop(columns='Group')\n",
    "df['M/F']=df['M/F'].replace('M','0')\n",
    "df['M/F']=df['M/F'].replace('F','1')"
   ]
  },
  {
   "cell_type": "code",
   "execution_count": null,
   "id": "a90913c0-ae0c-442c-8d8b-5588ea286888",
   "metadata": {},
   "outputs": [],
   "source": [
    "df"
   ]
  },
  {
   "cell_type": "markdown",
   "id": "1793cdca-854f-48fa-a6de-116f4100b175",
   "metadata": {},
   "source": [
    "# Analyzing the features\n",
    "<br>\n",
    "<b>1.M/F:</b> Gender of the target.\n",
    "<br>\n",
    "<br>\n",
    "<b>2.Age:</b>Age of the targe is one of the most important features.As per the study in most of the population the alzheimer's develop  the disease in the age of 64 or above.There is less than of chances of developing the disease in the people of the age group less than 64.After the 65 the chance of developing the Alzheimer's disease increases.\n",
    "<br>\n",
    "<br>\n",
    "<b>3.Educ:</b>Education is a continuous variable potentially correlated with cognitive function and disease progression.\n",
    "<br>\n",
    "<br>\n",
    "<b>4.MMSE:</b>Mini Mental State Examination is a test conducted to check the cognitive impairment.It is set of 11 question which takes about 5 to 10 minutes.The top score for MMSE is 30. Ascore equalt 25 or above is considered as normal.\n",
    "<br>\n",
    "<br>\n",
    "<b>5.CDR:</b>Clinical Dementia Rating is the  feature which evaluates the cognitive,behavioral and functional aspects of the Alzhemier's disease.Rather than the conducting test it makes judgement on 6 different categories based on the available informations.\n",
    "<br>\n",
    "<br>\n",
    "<b>6.eTIV:</b> Estimated total intracranial volume is the measurement of the variations in the premorbid brain size in imaging studies of cerebral structures in Alzheimer disease (AD).Basically, total intracranial volume is found to correlate with the determinant of the transform matrix used to align an image with an atlas. \n",
    "<br>\n",
    "<br>\n",
    "<b>7.nWBV:</b> Normalize Whole Brain Volume is the measurement which is expressed in percent of all voxels.\n",
    "<br>\n",
    "<br>\n",
    "<b>8.ASF:</b> Atlas Scaling Factor ASF is a one-parameter scaling factor that allows for comparison of the estimated total intracranial volume (eTIV) based on differences in human anatomy\n"
   ]
  },
  {
   "cell_type": "markdown",
   "id": "9a21c67f-df34-4573-a3ce-27d9fb82ac80",
   "metadata": {},
   "source": [
    "# FUZZY AHP METHOD"
   ]
  },
  {
   "cell_type": "markdown",
   "id": "d6c94f2f-026a-4134-8c97-b0929599bcac",
   "metadata": {},
   "source": [
    "# creating pair-wise comparison matrix\n",
    "\n",
    "Pair-wise comparision matrix in fuzzy are the n*n matrix which is formulated based on the expert's judgement.this matrix will be aggregated and normalized later,\n"
   ]
  },
  {
   "cell_type": "code",
   "execution_count": 3,
   "id": "af296288-649a-4bf7-a0a1-c8710a65a706",
   "metadata": {},
   "outputs": [],
   "source": [
    "def pairwise(n):\n",
    "    comparision_matrix=[]\n",
    "    for i in range(n):\n",
    "        row=[]\n",
    "        for j in range(n):\n",
    "            value=float(input(f\"Enter value of pair wise comparision matrix at row {i}, column {j}: \"))\n",
    "            row.append(value)\n",
    "        comparision_matrix.append(row)\n",
    "        \n",
    "    return(comparision_matrix)\n",
    "                            \n",
    "            "
   ]
  },
  {
   "cell_type": "markdown",
   "id": "e6c9e572-0728-45b9-902d-dbcdda0b1492",
   "metadata": {},
   "source": [
    "# fuzzified pairwise comparison matrix"
   ]
  },
  {
   "cell_type": "markdown",
   "id": "9ec77bf7-b6a2-427e-99af-1952173b0e68",
   "metadata": {},
   "source": [
    "def fuzzified(comparison_matrix):\n",
    "    n=len(comparison_matrix)\n",
    "    fuzzy_matrix = np.zeros((n, n, 3))\n",
    "    for i in range(n):\n",
    "        for j in range(i + 1, n):\n",
    "            m = comparison_matrix[i][j]\n",
    "            l = m - 1\n",
    "            u = m + 1\n",
    "            \n",
    "            fuzzy_matrix[i][j] = [l, m, u]\n",
    "            fuzzy_matrix[j][i] = [1/u, 1/m, 1/l]\n",
    "    for i in range(n):\n",
    "        for j in range(n):\n",
    "            if(i==j):\n",
    "                fuzzy_matrix[i][j]=[1,1,1]\n",
    "    return (fuzzy_matrix)\n",
    "                    \n",
    "    \n",
    "            \n",
    "    "
   ]
  },
  {
   "cell_type": "code",
   "execution_count": 6,
   "id": "14beb1f5-bb07-46f1-a052-4b7b032aafb0",
   "metadata": {},
   "outputs": [],
   "source": [
    "import numpy as np\n",
    "def fuzzified(comparison_matrix):\n",
    "    n = len(comparison_matrix)\n",
    "    fuzzy_matrix = np.zeros((n, n, 3))\n",
    "\n",
    "    for i in range(n):\n",
    "        for j in range(i + 1, n):\n",
    "            m = comparison_matrix[i][j]\n",
    "            l = m - 1\n",
    "            u = m + 1\n",
    "\n",
    "            fuzzy_matrix[i][j] = [l, m, u]\n",
    "            if m != 1: \n",
    "                fuzzy_matrix[j][i] = [1/u, 1/m, 1/l]\n",
    "            else:\n",
    "                fuzzy_matrix[j][i] = [1/u, 1, u]  \n",
    "\n",
    "    for i in range(n):\n",
    "        for j in range(n):\n",
    "            if i == j:\n",
    "                fuzzy_matrix[i][j] = [1, 1, 1]\n",
    "    return fuzzy_matrix\n"
   ]
  },
  {
   "cell_type": "code",
   "execution_count": 4,
   "id": "3e33f2a5-a2b4-4870-b7e4-794043203d55",
   "metadata": {},
   "outputs": [
    {
     "name": "stdin",
     "output_type": "stream",
     "text": [
      "Enter value of pair wise comparision matrix at row 0, column 0:  1\n",
      "Enter value of pair wise comparision matrix at row 0, column 1:  .3333333333\n",
      "Enter value of pair wise comparision matrix at row 0, column 2:  3\n",
      "Enter value of pair wise comparision matrix at row 0, column 3:  5\n",
      "Enter value of pair wise comparision matrix at row 0, column 4:  7\n",
      "Enter value of pair wise comparision matrix at row 1, column 0:  3\n",
      "Enter value of pair wise comparision matrix at row 1, column 1:  1\n",
      "Enter value of pair wise comparision matrix at row 1, column 2:  5\n",
      "Enter value of pair wise comparision matrix at row 1, column 3:  7\n",
      "Enter value of pair wise comparision matrix at row 1, column 4:  9\n",
      "Enter value of pair wise comparision matrix at row 2, column 0:  .3333333333\n",
      "Enter value of pair wise comparision matrix at row 2, column 1:  .2\n",
      "Enter value of pair wise comparision matrix at row 2, column 2:  1\n",
      "Enter value of pair wise comparision matrix at row 2, column 3:  3\n",
      "Enter value of pair wise comparision matrix at row 2, column 4:  5\n",
      "Enter value of pair wise comparision matrix at row 3, column 0:  .2\n",
      "Enter value of pair wise comparision matrix at row 3, column 1:  .142857143\n",
      "Enter value of pair wise comparision matrix at row 3, column 2:  .3333333333\n",
      "Enter value of pair wise comparision matrix at row 3, column 3:  1\n",
      "Enter value of pair wise comparision matrix at row 3, column 4:  3\n",
      "Enter value of pair wise comparision matrix at row 4, column 0:  .14285743\n",
      "Enter value of pair wise comparision matrix at row 4, column 1:  .1111111111\n",
      "Enter value of pair wise comparision matrix at row 4, column 2:  .2\n",
      "Enter value of pair wise comparision matrix at row 4, column 3:  .3333333333\n",
      "Enter value of pair wise comparision matrix at row 4, column 4:  1\n"
     ]
    }
   ],
   "source": [
    "comparison=pairwise(5)"
   ]
  },
  {
   "cell_type": "code",
   "execution_count": 21,
   "id": "fe0e6dd9-fde2-4284-82b9-0d5ab26b00ad",
   "metadata": {},
   "outputs": [
    {
     "data": {
      "text/plain": [
       "array([[[ 1.        ,  1.        ,  1.        ],\n",
       "        [-0.66666667,  0.33333333,  1.33333333],\n",
       "        [ 2.        ,  3.        ,  4.        ],\n",
       "        [ 4.        ,  5.        ,  6.        ],\n",
       "        [ 6.        ,  7.        ,  8.        ]],\n",
       "\n",
       "       [[ 0.75      ,  3.        , -1.5       ],\n",
       "        [ 1.        ,  1.        ,  1.        ],\n",
       "        [ 4.        ,  5.        ,  6.        ],\n",
       "        [ 6.        ,  7.        ,  8.        ],\n",
       "        [ 8.        ,  9.        , 10.        ]],\n",
       "\n",
       "       [[ 0.25      ,  0.33333333,  0.5       ],\n",
       "        [ 0.16666667,  0.2       ,  0.25      ],\n",
       "        [ 1.        ,  1.        ,  1.        ],\n",
       "        [ 2.        ,  3.        ,  4.        ],\n",
       "        [ 4.        ,  5.        ,  6.        ]],\n",
       "\n",
       "       [[ 0.16666667,  0.2       ,  0.25      ],\n",
       "        [ 0.125     ,  0.14285714,  0.16666667],\n",
       "        [ 0.25      ,  0.33333333,  0.5       ],\n",
       "        [ 1.        ,  1.        ,  1.        ],\n",
       "        [ 2.        ,  3.        ,  4.        ]],\n",
       "\n",
       "       [[ 0.125     ,  0.14285714,  0.16666667],\n",
       "        [ 0.1       ,  0.11111111,  0.125     ],\n",
       "        [ 0.16666667,  0.2       ,  0.25      ],\n",
       "        [ 0.25      ,  0.33333333,  0.5       ],\n",
       "        [ 1.        ,  1.        ,  1.        ]]])"
      ]
     },
     "execution_count": 21,
     "metadata": {},
     "output_type": "execute_result"
    }
   ],
   "source": [
    "fuzzy=fuzzified(comparison)\n",
    "fuzzy"
   ]
  },
  {
   "cell_type": "markdown",
   "id": "ebf293ee-14c4-4c91-94ff-17ab2c040912",
   "metadata": {},
   "source": [
    "# geometric mean"
   ]
  },
  {
   "cell_type": "code",
   "execution_count": 8,
   "id": "53141576-e96e-4384-a25e-e233c979ccd8",
   "metadata": {},
   "outputs": [],
   "source": [
    "def gm(fuzzy):\n",
    "    n=len(fuzzy)\n",
    "    a=[]\n",
    "    gm=np.zeros((n, 3))\n",
    "    for i in range(n):\n",
    "        for k in range(3):\n",
    "          product=1\n",
    "          for j in range(n):\n",
    "            product*=abs(fuzzy[i][j][k])\n",
    "            product=round(product,2)\n",
    "          gm[i][k]=(product**(1/n))\n",
    "                \n",
    "    return gm  "
   ]
  },
  {
   "cell_type": "code",
   "execution_count": 9,
   "id": "d2f97f78-204e-49e5-811e-4069fe49fbfc",
   "metadata": {},
   "outputs": [],
   "source": [
    "import numpy as np\n",
    "from decimal import Decimal, ROUND_HALF_UP\n",
    "\n",
    "def gm(fuzzy):\n",
    "  n = len(fuzzy)\n",
    "  a = []\n",
    "  gm = np.zeros((n, 3))\n",
    "  for i in range(n):\n",
    "      for k in range(3):\n",
    "          product = 1\n",
    "          for j in range(n):\n",
    "              product *= abs(fuzzy[i][j][k])\n",
    "          gm[i][k] = Decimal(product**(1/n)).quantize(Decimal('.01'), rounding=ROUND_HALF_UP)\n",
    "  return gm\n"
   ]
  },
  {
   "cell_type": "code",
   "execution_count": 10,
   "id": "db117e10-f1f2-47fe-ad55-9363fc814e9a",
   "metadata": {},
   "outputs": [
    {
     "data": {
      "text/plain": [
       "array([[2.  , 2.04, 3.03],\n",
       "       [2.7 , 3.94, 3.73],\n",
       "       [0.8 , 1.  , 1.25],\n",
       "       [0.4 , 0.49, 0.61],\n",
       "       [0.22, 0.25, 0.3 ]])"
      ]
     },
     "execution_count": 10,
     "metadata": {},
     "output_type": "execute_result"
    }
   ],
   "source": [
    "g_mean=gm(fuzzy)\n",
    "g_mean"
   ]
  },
  {
   "cell_type": "markdown",
   "id": "12a65b2a-7e45-4709-ad76-e734f9bb1f4f",
   "metadata": {},
   "source": [
    "# Fuzzy weight"
   ]
  },
  {
   "cell_type": "code",
   "execution_count": 11,
   "id": "c064e350-6dae-4ff2-9342-750e4644cb86",
   "metadata": {},
   "outputs": [],
   "source": [
    "def weight(g_mean):\n",
    "    n=len(g_mean)\n",
    "    a=[]\n",
    "    fuzzy_weights = np.zeros((n, 3))\n",
    "    sum_l=np.sum(g_mean[:, 0])\n",
    "    sum_m=np.sum(g_mean[:, 1])\n",
    "    sum_u=np.sum(g_mean[:, 2])\n",
    "    a.append(sum_u)\n",
    "    a.append(sum_m)\n",
    "    a.append(sum_l)\n",
    "    for i in range(3):\n",
    "        for j in range(n):\n",
    "            fuzzy_weights[j,i]=g_mean[j,i]/a[i]\n",
    "    return(fuzzy_weights)"
   ]
  },
  {
   "cell_type": "code",
   "execution_count": 12,
   "id": "f052a963-1b13-41f7-815e-9d9c23994e4e",
   "metadata": {},
   "outputs": [
    {
     "data": {
      "text/plain": [
       "array([[0.22421525, 0.2642487 , 0.49509804],\n",
       "       [0.30269058, 0.51036269, 0.60947712],\n",
       "       [0.0896861 , 0.12953368, 0.20424837],\n",
       "       [0.04484305, 0.0634715 , 0.0996732 ],\n",
       "       [0.02466368, 0.03238342, 0.04901961]])"
      ]
     },
     "execution_count": 12,
     "metadata": {},
     "output_type": "execute_result"
    }
   ],
   "source": [
    "f_weight=weight(g_mean)\n",
    "f_weight\n"
   ]
  },
  {
   "cell_type": "markdown",
   "id": "95789e38-b7de-4769-a9c3-d1941deb0699",
   "metadata": {},
   "source": [
    "# defuzzification"
   ]
  },
  {
   "cell_type": "code",
   "execution_count": 13,
   "id": "b6362509-3a01-4f0c-8482-5f4acba39369",
   "metadata": {},
   "outputs": [],
   "source": [
    "def  defuzzy(f_weight):\n",
    "    n=len(f_weight)\n",
    "    weight=np.zeros(n)\n",
    "    for i in range(n):\n",
    "        l, m, u = f_weight[i]\n",
    "        weight[i]=(l+m+u)/3\n",
    "    return weight\n",
    "    "
   ]
  },
  {
   "cell_type": "code",
   "execution_count": 14,
   "id": "5108bdce-e8fe-497f-8950-c7ed0a15145a",
   "metadata": {},
   "outputs": [],
   "source": [
    "defuuzy_w=defuzzy(f_weight)\n"
   ]
  },
  {
   "cell_type": "code",
   "execution_count": 15,
   "id": "5fe8509e-fa52-483b-a64e-0d6d69a8a1db",
   "metadata": {},
   "outputs": [
    {
     "data": {
      "text/plain": [
       "array([0.327854  , 0.4741768 , 0.14115605, 0.06932925, 0.03535557])"
      ]
     },
     "execution_count": 15,
     "metadata": {},
     "output_type": "execute_result"
    }
   ],
   "source": [
    "defuuzy_w"
   ]
  },
  {
   "cell_type": "markdown",
   "id": "c8a671dd-540b-426e-9314-3938be8a77c8",
   "metadata": {},
   "source": [
    "# criteria weight"
   ]
  },
  {
   "cell_type": "code",
   "execution_count": 16,
   "id": "085756d8-f7e5-4b72-8530-737a4a6473dc",
   "metadata": {},
   "outputs": [],
   "source": [
    "def criteria_w(defuzzy_w):\n",
    "    n=len(defuuzy_w)\n",
    "    c_weight=np.zeros(n)\n",
    "    s=0\n",
    "    for i in range (n):\n",
    "        s=s+defuzzy_w[i]\n",
    "    for i in range(n):\n",
    "        c_weight[i]=defuzzy_w[i]/s\n",
    "    return c_weight\n",
    "        "
   ]
  },
  {
   "cell_type": "code",
   "execution_count": 17,
   "id": "acfbb3f6-bca2-4296-a895-01347bdca2b2",
   "metadata": {},
   "outputs": [
    {
     "data": {
      "text/plain": [
       "array([0.3128761 , 0.45251419, 0.13470738, 0.06616197, 0.03374036])"
      ]
     },
     "execution_count": 17,
     "metadata": {},
     "output_type": "execute_result"
    }
   ],
   "source": [
    "c_weight=criteria_w(defuuzy_w)\n",
    "c_weight"
   ]
  },
  {
   "cell_type": "markdown",
   "id": "6566df40-a4c6-4ad4-9d29-d3e6106c9c0c",
   "metadata": {},
   "source": [
    "# Ranking\n"
   ]
  },
  {
   "cell_type": "code",
   "execution_count": 18,
   "id": "fe5e2707-fd2b-4683-8dbd-a1a8f7e58ad5",
   "metadata": {},
   "outputs": [],
   "source": [
    "def rank(c_weight):\n",
    "    rank=np.empty_like(c_weight)\n",
    "    sorted_indices = np.argsort(c_weight)[::-1]\n",
    "    rank[sorted_indices] = np.arange(len(c_weight)) + 1\n",
    "    return rank\n",
    "            "
   ]
  },
  {
   "cell_type": "code",
   "execution_count": 19,
   "id": "00565d35-d955-4f29-ad85-822aaed58af3",
   "metadata": {},
   "outputs": [
    {
     "data": {
      "text/plain": [
       "array([2., 1., 3., 4., 5.])"
      ]
     },
     "execution_count": 19,
     "metadata": {},
     "output_type": "execute_result"
    }
   ],
   "source": [
    "rank(c_weight)"
   ]
  },
  {
   "cell_type": "markdown",
   "id": "9ba1e478-ca5c-4c3c-8347-3c8213a873cc",
   "metadata": {},
   "source": [
    "# FUZZY SYNTHETIC EVALUATION"
   ]
  },
  {
   "cell_type": "code",
   "execution_count": 23,
   "id": "5fca38a8-8d30-4154-a802-dd99dbe48619",
   "metadata": {},
   "outputs": [],
   "source": [
    "def criteria():\n",
    "    c=int(input(\"enter number of criteria\"))\n",
    "    a=int(input(\"enter number of attribute\"))\n",
    "    e_matrix=np.zeros((a, c, 3))\n",
    "    for i in range(a):\n",
    "        for j in range(c):\n",
    "            l, m, u = map(float, input(f\"Enter fuzzy value (l, m, u) for attribute {i+1} and criteria {j+1}:\").split())\n",
    "            if l <= m <= u:\n",
    "                e_matrix[i][j] = [l, m, u]\n",
    "    return e_matrix\n",
    "            \n",
    "    \n",
    "    "
   ]
  },
  {
   "cell_type": "code",
   "execution_count": null,
   "id": "62f308b5-341f-41fc-b309-b49037fe28ca",
   "metadata": {},
   "outputs": [],
   "source": [
    "def weight(c_matrix):\n",
    "    n=c_matrix.shape[1]\n",
    "    w_matrix=np.zeros(n)\n",
    "    for i in range(1,n):\n",
    "        w_matrix[i]=float(input(f\"enter the weight for criteria {i}:\"))\n",
    "    return w_matrix\n",
    "    "
   ]
  },
  {
   "cell_type": "code",
   "execution_count": null,
   "id": "15cf4a42-fd94-4688-b08d-fdb282a8635c",
   "metadata": {},
   "outputs": [],
   "source": [
    "def aggregate(c_matrix,w_matrix):\n",
    "    n, m, _ = c_matrix.shape\n",
    "    aggregated_matrix = np.zeros((n, 3))\n",
    "\n",
    "    for i in range(n):\n",
    "        for k in range(3):\n",
    "            for j in range(m):\n",
    "                aggregated_matrix[i][k] += w_matrix[j] * c_matrix[i][j][k]\n",
    "    return aggregated_matrix"
   ]
  },
  {
   "cell_type": "code",
   "execution_count": null,
   "id": "174c6016-c127-4ee1-98c2-e07a39b77f37",
   "metadata": {},
   "outputs": [],
   "source": [
    "a_matrix=aggregate(c_matrix,w_matrix)\n",
    "a_matrix"
   ]
  },
  {
   "cell_type": "code",
   "execution_count": null,
   "id": "fcdfdd21-8d4b-4826-b9ae-ebf141c3d17d",
   "metadata": {},
   "outputs": [],
   "source": [
    "def defuzzy(a_matrix):\n",
    "    n=a_matrix.shape[0]\n",
    "    m=a_matrix.shape[1]\n",
    "    d_matrix=np.zeros(n)\n",
    "    for i in range(n):\n",
    "        s=0\n",
    "        for j in range(m):\n",
    "            s=s+a_matrix[i,j]\n",
    "        a=s/m\n",
    "        d_matrix[i]=a\n",
    "    return d_matrix "
   ]
  },
  {
   "cell_type": "code",
   "execution_count": null,
   "id": "16b876f7-0b09-438a-9f93-f5e7f30d42be",
   "metadata": {},
   "outputs": [],
   "source": [
    "defuzzy(a_matrix)"
   ]
  },
  {
   "cell_type": "markdown",
   "id": "fdf23c03-e8a8-41f4-baf4-b01b3634c1e2",
   "metadata": {},
   "source": [
    "# NON TRANSITIVE RANKING METHOD"
   ]
  },
  {
   "cell_type": "code",
   "execution_count": null,
   "id": "ea8227e4-c50d-49c8-b9e1-6d54e3609446",
   "metadata": {},
   "outputs": [],
   "source": [
    "def compare():\n",
    "    n=int(input(\"enter the number\"))\n",
    "    a=np.zeros((n,n))\n",
    "    for i in range(n):\n",
    "        for j in range(n):\n",
    "            a[i,j]=float(input(f\"enter value for {i} row {j} column\"))\n",
    "    return a "
   ]
  },
  {
   "cell_type": "code",
   "execution_count": null,
   "id": "f0006fc2-b666-40d4-8f62-97e064cd3d0c",
   "metadata": {},
   "outputs": [],
   "source": [
    "c_matrix=compare()"
   ]
  },
  {
   "cell_type": "code",
   "execution_count": null,
   "id": "976be55d-77bc-4695-bd52-712bce0399af",
   "metadata": {},
   "outputs": [],
   "source": [
    "def  n_trans(c_matrix):\n",
    "    n=c_matrix.shape[0]\n",
    "    f=np.zeros((n,n))\n",
    "    for i in range(n):\n",
    "        for j in range(n):\n",
    "            numer=c_matrix[i,j]\n",
    "            deno=max(c_matrix[i,j],c_matrix[j,i])\n",
    "            s=numer/deno\n",
    "            f[j,i]=s\n",
    "    return(f)\n",
    "            \n",
    "            "
   ]
  },
  {
   "cell_type": "code",
   "execution_count": null,
   "id": "518b0af4-f532-4d72-b7d7-5d15ba49fd78",
   "metadata": {},
   "outputs": [],
   "source": [
    "n_matrix=n_trans(c_matrix)\n",
    "n_matrix"
   ]
  },
  {
   "cell_type": "code",
   "execution_count": null,
   "id": "f1cfeacd-07c5-433a-a5cb-cc21ae93098e",
   "metadata": {},
   "outputs": [],
   "source": [
    "def rank(n_matrix):\n",
    "    n=n_matrix.shape[0]\n",
    "    ranks=np.zeros(n,)\n",
    "    for i in range(n):\n",
    "        for j in range(n):\n",
    "            \n",
    "            ranks[i]=np.min(n_matrix[i,j])\n",
    "            #print(row_min)\n",
    "            #ranks[i]=row_min\n",
    "    return ranks\n",
    "    "
   ]
  },
  {
   "cell_type": "code",
   "execution_count": null,
   "id": "268b5d33-3245-4596-928d-9f5642d1125b",
   "metadata": {},
   "outputs": [],
   "source": [
    "rankss=rank(n_matrix)\n"
   ]
  },
  {
   "cell_type": "code",
   "execution_count": null,
   "id": "b3ac04b8-b78d-4e22-a97c-78c06b12dcc4",
   "metadata": {},
   "outputs": [],
   "source": [
    "rankss"
   ]
  },
  {
   "cell_type": "code",
   "execution_count": null,
   "id": "077f0c0b-62d7-4fa0-ac9b-96a3a6e1bf48",
   "metadata": {},
   "outputs": [],
   "source": [
    "def ranks(rank):\n",
    "    ranks=np.empty_like(rank)\n",
    "    sorted_indices = np.argsort(rank)[::-1]\n",
    "    ranks[sorted_indices] = np.arange(len()) + 1\n",
    "    return rank"
   ]
  },
  {
   "cell_type": "code",
   "execution_count": null,
   "id": "07172047-8dad-4537-93d1-7025c4ae2762",
   "metadata": {},
   "outputs": [],
   "source": [
    "ranks(rank)"
   ]
  },
  {
   "cell_type": "code",
   "execution_count": null,
   "id": "d1bdbf44-eabb-4ff5-ab13-f22ca0d745cc",
   "metadata": {},
   "outputs": [],
   "source": []
  }
 ],
 "metadata": {
  "kernelspec": {
   "display_name": "Python 3 (ipykernel)",
   "language": "python",
   "name": "python3"
  },
  "language_info": {
   "codemirror_mode": {
    "name": "ipython",
    "version": 3
   },
   "file_extension": ".py",
   "mimetype": "text/x-python",
   "name": "python",
   "nbconvert_exporter": "python",
   "pygments_lexer": "ipython3",
   "version": "3.11.7"
  }
 },
 "nbformat": 4,
 "nbformat_minor": 5
}
